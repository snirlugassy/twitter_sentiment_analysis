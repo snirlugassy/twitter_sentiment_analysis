{
 "cells": [
  {
   "cell_type": "code",
   "execution_count": 1,
   "metadata": {},
   "outputs": [
    {
     "name": "stderr",
     "output_type": "stream",
     "text": [
      "/Users/snirlugassy/miniconda3/envs/deep/lib/python3.10/site-packages/tqdm/auto.py:22: TqdmWarning: IProgress not found. Please update jupyter and ipywidgets. See https://ipywidgets.readthedocs.io/en/stable/user_install.html\n",
      "  from .autonotebook import tqdm as notebook_tqdm\n"
     ]
    },
    {
     "name": "stdout",
     "output_type": "stream",
     "text": [
      "====== TEST =======\n",
      "device: cpu\n",
      "-> Loading vocabulary\n",
      "-> Loading datasets\n"
     ]
    },
    {
     "ename": "TypeError",
     "evalue": "SentimentAnalysisDataset.__init__() takes 2 positional arguments but 3 were given",
     "output_type": "error",
     "traceback": [
      "\u001b[0;31m---------------------------------------------------------------------------\u001b[0m",
      "\u001b[0;31mTypeError\u001b[0m                                 Traceback (most recent call last)",
      "Input \u001b[0;32mIn [1]\u001b[0m, in \u001b[0;36m<cell line: 19>\u001b[0;34m()\u001b[0m\n\u001b[1;32m     16\u001b[0m     vocab \u001b[38;5;241m=\u001b[39m pickle\u001b[38;5;241m.\u001b[39mload(pkl)\n\u001b[1;32m     18\u001b[0m \u001b[38;5;28mprint\u001b[39m(\u001b[38;5;124m'\u001b[39m\u001b[38;5;124m-> Loading datasets\u001b[39m\u001b[38;5;124m'\u001b[39m)\n\u001b[0;32m---> 19\u001b[0m test_dataset \u001b[38;5;241m=\u001b[39m \u001b[43mSentimentAnalysisDataset\u001b[49m\u001b[43m(\u001b[49m\u001b[43mos\u001b[49m\u001b[38;5;241;43m.\u001b[39;49m\u001b[43mpath\u001b[49m\u001b[38;5;241;43m.\u001b[39;49m\u001b[43mjoin\u001b[49m\u001b[43m(\u001b[49m\u001b[43mdata_path\u001b[49m\u001b[43m,\u001b[49m\u001b[43m \u001b[49m\u001b[38;5;124;43m'\u001b[39;49m\u001b[38;5;124;43mtestEmotions.csv\u001b[39;49m\u001b[38;5;124;43m'\u001b[39;49m\u001b[43m)\u001b[49m\u001b[43m,\u001b[49m\u001b[43m \u001b[49m\u001b[43mvocab\u001b[49m\u001b[43m)\u001b[49m\n\u001b[1;32m     20\u001b[0m train_size \u001b[38;5;241m=\u001b[39m \u001b[38;5;28mlen\u001b[39m(test_dataset)\n\u001b[1;32m     22\u001b[0m \u001b[38;5;28mprint\u001b[39m(\u001b[38;5;124m'\u001b[39m\u001b[38;5;124m-> Initalizing model\u001b[39m\u001b[38;5;124m'\u001b[39m)\n",
      "\u001b[0;31mTypeError\u001b[0m: SentimentAnalysisDataset.__init__() takes 2 positional arguments but 3 were given"
     ]
    }
   ],
   "source": [
    "import os\n",
    "import pickle\n",
    "import torch\n",
    "import numpy as np\n",
    "from model import SentimentLSTM\n",
    "from dataset import SentimentAnalysisDataset, LABEL_MAP\n",
    "\n",
    "data_path = 'data'\n",
    "\n",
    "print('====== TEST =======')\n",
    "device = torch.device('cuda' if torch.cuda.is_available() else 'cpu')\n",
    "print('device:', device)\n",
    "\n",
    "print('-> Loading vocabulary')\n",
    "with open('vocab.dict', 'rb') as pkl:\n",
    "    vocab = pickle.load(pkl)\n",
    "\n",
    "print('-> Loading datasets')\n",
    "test_dataset = SentimentAnalysisDataset(os.path.join(data_path, 'testEmotions.csv'), vocab)\n",
    "train_size = len(test_dataset)\n",
    "\n",
    "print('-> Initalizing model')\n",
    "model = SentimentLSTM(len(vocab))\n",
    "model.to(device)\n",
    "\n",
    "loss = torch.nn.CrossEntropyLoss()"
   ]
  },
  {
   "cell_type": "code",
   "execution_count": 10,
   "metadata": {},
   "outputs": [],
   "source": [
    "def run_test(model, dataset, device)\n",
    "\n",
    "    test_loss = 0.0\n",
    "    y_true = []\n",
    "    y_predict = []\n",
    "\n",
    "    model.eval()\n",
    "    with torch.no_grad():\n",
    "        for i, (tokens, label) in enumerate(dataset):\n",
    "            tokens = tokens.to(device)\n",
    "            label = label.to(device)\n",
    "            y_true.append(int(label.argmax(dim=0)))\n",
    "\n",
    "            if len(tokens) == 0:\n",
    "                # Predict neutral if no token after processing \n",
    "                # e.g., only stopwords in the original text\n",
    "                y_predict.append(int(LABEL_MAP['neutral']))\n",
    "                continue\n",
    "\n",
    "            # Forward pass\n",
    "            y_prob = model(tokens)[-1]\n",
    "            y_predict.append(int(torch.softmax(y_prob, dim=0).argmax(dim=0)))\n",
    "            L = loss(y_prob.view(1,-1), label.view(1,-1))\n",
    "            test_loss += L.item()\n",
    "\n",
    "    y_true = np.array(y_true)\n",
    "    y_predict = np.array(y_predict)\n",
    "\n",
    "    accuracy = sum(y_true == y_predict) / len(y_true)\n",
    "\n",
    "    return accuracy, test_loss"
   ]
  },
  {
   "cell_type": "code",
   "execution_count": 11,
   "metadata": {},
   "outputs": [
    {
     "data": {
      "text/plain": [
       "((4837,), (4837,))"
      ]
     },
     "execution_count": 11,
     "metadata": {},
     "output_type": "execute_result"
    }
   ],
   "source": [
    "y_true.shape, y_predict.shape"
   ]
  },
  {
   "cell_type": "code",
   "execution_count": 12,
   "metadata": {},
   "outputs": [
    {
     "data": {
      "text/plain": [
       "0.26834814967955345"
      ]
     },
     "execution_count": 12,
     "metadata": {},
     "output_type": "execute_result"
    }
   ],
   "source": [
    "accuracy = sum(y_true == y_predict) / len(y_true)\n",
    "accuracy"
   ]
  }
 ],
 "metadata": {
  "interpreter": {
   "hash": "7d538358a4a844c2698117f72ddbeea822b864d784b5f9260aa8445549be4a00"
  },
  "kernelspec": {
   "display_name": "Python 3.10.4 ('deep')",
   "language": "python",
   "name": "python3"
  },
  "language_info": {
   "codemirror_mode": {
    "name": "ipython",
    "version": 3
   },
   "file_extension": ".py",
   "mimetype": "text/x-python",
   "name": "python",
   "nbconvert_exporter": "python",
   "pygments_lexer": "ipython3",
   "version": "3.10.4"
  },
  "orig_nbformat": 4
 },
 "nbformat": 4,
 "nbformat_minor": 2
}
