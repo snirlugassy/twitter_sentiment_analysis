{
 "cells": [
  {
   "cell_type": "code",
   "execution_count": 15,
   "metadata": {},
   "outputs": [
    {
     "name": "stdout",
     "output_type": "stream",
     "text": [
      "device: cpu\n"
     ]
    }
   ],
   "source": [
    "import os\n",
    "import pickle\n",
    "import torch\n",
    "import numpy as np\n",
    "from model import SentimentGRUWithGlove, TransformerModel\n",
    "from dataset import SentimentAnalysisDataset, LABEL_MAP\n",
    "\n",
    "data_path = 'data'\n",
    "\n",
    "device = torch.device('cuda' if torch.cuda.is_available() else 'cpu')\n",
    "print('device:', device)"
   ]
  },
  {
   "cell_type": "code",
   "execution_count": 2,
   "metadata": {},
   "outputs": [
    {
     "name": "stdout",
     "output_type": "stream",
     "text": [
      "-> Loading datasets\n",
      "-> Loading word embeddings\n"
     ]
    }
   ],
   "source": [
    "print('-> Loading datasets')\n",
    "test_dataset = SentimentAnalysisDataset(os.path.join(data_path, 'testEmotions.csv'))\n",
    "train_size = len(test_dataset)"
   ]
  },
  {
   "cell_type": "code",
   "execution_count": 11,
   "metadata": {},
   "outputs": [],
   "source": [
    "def run_test(model, dataset, device):\n",
    "    y_true = []\n",
    "    y_predict = []\n",
    "\n",
    "    model.eval()\n",
    "    with torch.no_grad():\n",
    "        for tokens, label in dataset:\n",
    "            tokens = tokens.to(device).float()\n",
    "            label = label.to(device)\n",
    "            y_true.append(int(label.argmax(dim=0)))\n",
    "\n",
    "            if len(tokens) == 0:\n",
    "                # Predict neutral if no token after processing \n",
    "                # e.g., only stopwords in the original text\n",
    "                y_predict.append(int(LABEL_MAP['neutral']))\n",
    "                continue\n",
    "\n",
    "            # Forward pass\n",
    "            y_prob = model(tokens)\n",
    "            y_predict.append(int(torch.softmax(y_prob, dim=0).argmax(dim=0)))\n",
    "\n",
    "    y_true = np.array(y_true)\n",
    "    y_predict = np.array(y_predict)\n",
    "\n",
    "    accuracy = sum(y_true == y_predict) / len(y_true)\n",
    "\n",
    "    return accuracy"
   ]
  },
  {
   "cell_type": "code",
   "execution_count": 13,
   "metadata": {},
   "outputs": [
    {
     "name": "stdout",
     "output_type": "stream",
     "text": [
      "-> Initalizing GRU model\n",
      "Test accuracy: 0.5209840810419681\n"
     ]
    }
   ],
   "source": [
    "print('-> Initalizing GRU model')\n",
    "model = SentimentGRUWithGlove(100)\n",
    "model.to(device)\n",
    "\n",
    "print('-> Loading model state')\n",
    "model.load_state_dict(torch.load('gru_A_06_03_16_34.state'))\n",
    "\n",
    "print('-> Running accuracy test')\n",
    "acc = run_test(model, test_dataset, device)\n",
    "print('Test accuracy:', acc)"
   ]
  },
  {
   "cell_type": "code",
   "execution_count": 17,
   "metadata": {},
   "outputs": [
    {
     "name": "stdout",
     "output_type": "stream",
     "text": [
      "-> Initalizing transformer model\n",
      "-> Loading model state\n",
      "-> Running accuracy test\n"
     ]
    }
   ],
   "source": [
    "print('-> Initalizing transformer model')\n",
    "model = TransformerModel(100)\n",
    "model.to(device)\n",
    "\n",
    "print('-> Loading model state')\n",
    "model.load_state_dict(torch.load('transformer_classifier_C_06_03_19_55.state'))\n",
    "\n",
    "print('-> Running accuracy test')\n",
    "acc = run_test(model, test_dataset, device)\n",
    "print('Test accuracy:', acc)"
   ]
  }
 ],
 "metadata": {
  "interpreter": {
   "hash": "7d538358a4a844c2698117f72ddbeea822b864d784b5f9260aa8445549be4a00"
  },
  "kernelspec": {
   "display_name": "Python 3.10.4 ('deep')",
   "language": "python",
   "name": "python3"
  },
  "language_info": {
   "codemirror_mode": {
    "name": "ipython",
    "version": 3
   },
   "file_extension": ".py",
   "mimetype": "text/x-python",
   "name": "python",
   "nbconvert_exporter": "python",
   "pygments_lexer": "ipython3",
   "version": "3.10.4"
  },
  "orig_nbformat": 4
 },
 "nbformat": 4,
 "nbformat_minor": 2
}
