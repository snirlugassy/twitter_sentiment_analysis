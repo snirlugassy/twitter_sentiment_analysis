{
 "cells": [
  {
   "cell_type": "code",
   "execution_count": 4,
   "metadata": {},
   "outputs": [
    {
     "name": "stdout",
     "output_type": "stream",
     "text": [
      "====== TEST =======\n",
      "device: cpu\n",
      "-> Loading vocabulary\n",
      "-> Loading datasets\n",
      "-> Initalizing model\n"
     ]
    }
   ],
   "source": [
    "import os\n",
    "import sys\n",
    "import torch\n",
    "import numpy as np\n",
    "from dataset import LABEL_MAP\n",
    "from sklearn.metrics import accuracy_score, confusion_matrix\n",
    "\n",
    "from dataset import SentimentAnalysisDataset\n",
    "\n",
    "import torch\n",
    "\n",
    "from model import TransformerModel, SentimentGRUWithGlove\n",
    "from dataset import SentimentAnalysisDataset\n",
    "\n",
    "def run_test(model, dataset, loss_func, device):\n",
    "\n",
    "    test_loss = 0.0\n",
    "    y_true = []\n",
    "    y_predict = []\n",
    "\n",
    "    model.eval()\n",
    "    with torch.no_grad():\n",
    "        for tokens, label in dataset:\n",
    "            \n",
    "            tokens = tokens.to(device).float()\n",
    "            label = label.to(device)\n",
    "\n",
    "            y_true.append(int(label.argmax()))\n",
    "\n",
    "            if tokens.squeeze().dim() == 0 or len(tokens.squeeze()) == 0:\n",
    "                # Predict neutral if no token after processing \n",
    "                # e.g., only stopwords in the original text\n",
    "                y_predict.append(int(LABEL_MAP['neutral']))\n",
    "                continue\n",
    "\n",
    "            # Forward pass\n",
    "            output = model(tokens)\n",
    "            y_predict.append(int(torch.softmax(output, dim=0).argmax()))\n",
    "            L = loss_func(output.view(1,-1), label.view(1,-1))\n",
    "            test_loss += L.item()\n",
    "\n",
    "    y_true = np.array(y_true)\n",
    "    y_predict = np.array(y_predict)\n",
    "\n",
    "    return accuracy_score(y_true, y_predict), confusion_matrix(y_true, y_predict), test_loss"
   ]
  },
  {
   "cell_type": "code",
   "execution_count": 10,
   "metadata": {},
   "outputs": [],
   "source": [
    "data_path = 'data/testEmotions.csv'\n",
    "model_type = 'transformer'\n",
    "model_path = ''\n",
    "\n",
    "test_dataset = SentimentAnalysisDataset(data_path)\n",
    "test_size = len(test_dataset)\n",
    "\n",
    "device = torch.device('cuda' if torch.cuda.is_available() else 'cpu')\n",
    "\n",
    "if model_type == 'gru':\n",
    "    model = SentimentGRUWithGlove(100)\n",
    "else:\n",
    "    model = TransformerModel(100)\n",
    "\n",
    "model.load_state_dict(torch.load(model_path))\n",
    "model.to(device)\n",
    "\n",
    "loss = torch.nn.CrossEntropyLoss()"
   ]
  },
  {
   "cell_type": "code",
   "execution_count": 11,
   "metadata": {},
   "outputs": [
    {
     "data": {
      "text/plain": [
       "((4837,), (4837,))"
      ]
     },
     "execution_count": 11,
     "metadata": {},
     "output_type": "execute_result"
    }
   ],
   "source": [
    "acc, conf_mat = run_test(model, test_dataset, loss, device)\n",
    "print('accuracy:', acc)\n",
    "print('confusion matrix:', conf_mat)"
   ]
  }
 ],
 "metadata": {
  "interpreter": {
   "hash": "7d538358a4a844c2698117f72ddbeea822b864d784b5f9260aa8445549be4a00"
  },
  "kernelspec": {
   "display_name": "Python 3.10.4 ('deep')",
   "language": "python",
   "name": "python3"
  },
  "language_info": {
   "codemirror_mode": {
    "name": "ipython",
    "version": 3
   },
   "file_extension": ".py",
   "mimetype": "text/x-python",
   "name": "python",
   "nbconvert_exporter": "python",
   "pygments_lexer": "ipython3",
   "version": "3.10.4"
  },
  "orig_nbformat": 4
 },
 "nbformat": 4,
 "nbformat_minor": 2
}
