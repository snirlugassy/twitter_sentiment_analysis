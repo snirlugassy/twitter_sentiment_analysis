{
 "cells": [
  {
   "cell_type": "code",
   "execution_count": 1,
   "metadata": {},
   "outputs": [],
   "source": [
    "import pandas as pd\n",
    "import matplotlib.pyplot as plt"
   ]
  },
  {
   "cell_type": "code",
   "execution_count": 2,
   "metadata": {},
   "outputs": [
    {
     "name": "stdout",
     "output_type": "stream",
     "text": [
      "(14504, 2)\n"
     ]
    },
    {
     "data": {
      "text/html": [
       "<div>\n",
       "<style scoped>\n",
       "    .dataframe tbody tr th:only-of-type {\n",
       "        vertical-align: middle;\n",
       "    }\n",
       "\n",
       "    .dataframe tbody tr th {\n",
       "        vertical-align: top;\n",
       "    }\n",
       "\n",
       "    .dataframe thead th {\n",
       "        text-align: right;\n",
       "    }\n",
       "</style>\n",
       "<table border=\"1\" class=\"dataframe\">\n",
       "  <thead>\n",
       "    <tr style=\"text-align: right;\">\n",
       "      <th></th>\n",
       "      <th>emotion</th>\n",
       "      <th>content</th>\n",
       "    </tr>\n",
       "  </thead>\n",
       "  <tbody>\n",
       "    <tr>\n",
       "      <th>0</th>\n",
       "      <td>happiness</td>\n",
       "      <td>victory for the bulldogs was celebrated by 3 w...</td>\n",
       "    </tr>\n",
       "    <tr>\n",
       "      <th>1</th>\n",
       "      <td>happiness</td>\n",
       "      <td>@saraLDS Thanks for that, Sara</td>\n",
       "    </tr>\n",
       "    <tr>\n",
       "      <th>2</th>\n",
       "      <td>happiness</td>\n",
       "      <td>@Tony_Mandarich well welcome back from the dar...</td>\n",
       "    </tr>\n",
       "    <tr>\n",
       "      <th>3</th>\n",
       "      <td>happiness</td>\n",
       "      <td>@sai_shediddy lol , you gotta share too</td>\n",
       "    </tr>\n",
       "    <tr>\n",
       "      <th>4</th>\n",
       "      <td>happiness</td>\n",
       "      <td>first up, make up for lost time with jelly. Ja...</td>\n",
       "    </tr>\n",
       "    <tr>\n",
       "      <th>5</th>\n",
       "      <td>happiness</td>\n",
       "      <td>@redrobinrockn next one for you!</td>\n",
       "    </tr>\n",
       "    <tr>\n",
       "      <th>6</th>\n",
       "      <td>happiness</td>\n",
       "      <td>Welcome @doeko ! Really glad to know you here....</td>\n",
       "    </tr>\n",
       "    <tr>\n",
       "      <th>7</th>\n",
       "      <td>happiness</td>\n",
       "      <td>is happy  and clean, squeaky clean</td>\n",
       "    </tr>\n",
       "    <tr>\n",
       "      <th>8</th>\n",
       "      <td>happiness</td>\n",
       "      <td>@Tottie Thank you, thank you!! Thought this is...</td>\n",
       "    </tr>\n",
       "    <tr>\n",
       "      <th>9</th>\n",
       "      <td>happiness</td>\n",
       "      <td>@aruky Yes, this NBA song is great!!!  Got an ...</td>\n",
       "    </tr>\n",
       "    <tr>\n",
       "      <th>10</th>\n",
       "      <td>happiness</td>\n",
       "      <td>NEW LOGO! for all the Web, Cheak it!...gAllethOo</td>\n",
       "    </tr>\n",
       "    <tr>\n",
       "      <th>11</th>\n",
       "      <td>happiness</td>\n",
       "      <td>@girlfromthemoon ...i had a yay moment today  ...</td>\n",
       "    </tr>\n",
       "    <tr>\n",
       "      <th>12</th>\n",
       "      <td>happiness</td>\n",
       "      <td>@DonnieWahlberg sounds like you all had a grea...</td>\n",
       "    </tr>\n",
       "    <tr>\n",
       "      <th>13</th>\n",
       "      <td>happiness</td>\n",
       "      <td>Woop, have just bought the Elliot Minor album ...</td>\n",
       "    </tr>\n",
       "    <tr>\n",
       "      <th>14</th>\n",
       "      <td>happiness</td>\n",
       "      <td>@nicolesssss  no, dayuuum 5o'clock was better</td>\n",
       "    </tr>\n",
       "    <tr>\n",
       "      <th>15</th>\n",
       "      <td>happiness</td>\n",
       "      <td>@DavidArchie I'm watching some of your videos ...</td>\n",
       "    </tr>\n",
       "    <tr>\n",
       "      <th>16</th>\n",
       "      <td>happiness</td>\n",
       "      <td>@VIbeauty we will work on that mama  sweetdreams!</td>\n",
       "    </tr>\n",
       "    <tr>\n",
       "      <th>17</th>\n",
       "      <td>happiness</td>\n",
       "      <td>nothings better then going out for chinese at ...</td>\n",
       "    </tr>\n",
       "    <tr>\n",
       "      <th>18</th>\n",
       "      <td>happiness</td>\n",
       "      <td>New @shackletonmusic single bought! It is awes...</td>\n",
       "    </tr>\n",
       "    <tr>\n",
       "      <th>19</th>\n",
       "      <td>happiness</td>\n",
       "      <td>@amyyyxoxo ahh I gtg but pls help me with numb...</td>\n",
       "    </tr>\n",
       "  </tbody>\n",
       "</table>\n",
       "</div>"
      ],
      "text/plain": [
       "      emotion                                            content\n",
       "0   happiness  victory for the bulldogs was celebrated by 3 w...\n",
       "1   happiness                     @saraLDS Thanks for that, Sara\n",
       "2   happiness  @Tony_Mandarich well welcome back from the dar...\n",
       "3   happiness            @sai_shediddy lol , you gotta share too\n",
       "4   happiness  first up, make up for lost time with jelly. Ja...\n",
       "5   happiness                   @redrobinrockn next one for you!\n",
       "6   happiness  Welcome @doeko ! Really glad to know you here....\n",
       "7   happiness                 is happy  and clean, squeaky clean\n",
       "8   happiness  @Tottie Thank you, thank you!! Thought this is...\n",
       "9   happiness  @aruky Yes, this NBA song is great!!!  Got an ...\n",
       "10  happiness   NEW LOGO! for all the Web, Cheak it!...gAllethOo\n",
       "11  happiness  @girlfromthemoon ...i had a yay moment today  ...\n",
       "12  happiness  @DonnieWahlberg sounds like you all had a grea...\n",
       "13  happiness  Woop, have just bought the Elliot Minor album ...\n",
       "14  happiness      @nicolesssss  no, dayuuum 5o'clock was better\n",
       "15  happiness  @DavidArchie I'm watching some of your videos ...\n",
       "16  happiness  @VIbeauty we will work on that mama  sweetdreams!\n",
       "17  happiness  nothings better then going out for chinese at ...\n",
       "18  happiness  New @shackletonmusic single bought! It is awes...\n",
       "19  happiness  @amyyyxoxo ahh I gtg but pls help me with numb..."
      ]
     },
     "execution_count": 2,
     "metadata": {},
     "output_type": "execute_result"
    }
   ],
   "source": [
    "train_data = pd.read_csv('data/trainEmotions.csv')\n",
    "print(train_data.shape)\n",
    "train_data.head(20)"
   ]
  },
  {
   "cell_type": "code",
   "execution_count": 3,
   "metadata": {},
   "outputs": [
    {
     "name": "stdout",
     "output_type": "stream",
     "text": [
      "happiness    5430\n",
      "neutral      5182\n",
      "sadness      3892\n",
      "Name: emotion, dtype: int64\n"
     ]
    },
    {
     "data": {
      "image/png": "[encoded data removed]",
      "text/plain": [
       "<Figure size 360x216 with 1 Axes>"
      ]
     },
     "metadata": {
      "needs_background": "light"
     },
     "output_type": "display_data"
    }
   ],
   "source": [
    "emotion_counts = train_data.emotion.value_counts()\n",
    "print(emotion_counts)\n",
    "plt.figure(figsize=(5,3))\n",
    "plt.title('Emotion label count')\n",
    "plt.bar(emotion_counts.keys(), emotion_counts.values, color='c')\n",
    "plt.show()"
   ]
  },
  {
   "cell_type": "code",
   "execution_count": 4,
   "metadata": {},
   "outputs": [
    {
     "data": {
      "text/html": [
       "<div>\n",
       "<style scoped>\n",
       "    .dataframe tbody tr th:only-of-type {\n",
       "        vertical-align: middle;\n",
       "    }\n",
       "\n",
       "    .dataframe tbody tr th {\n",
       "        vertical-align: top;\n",
       "    }\n",
       "\n",
       "    .dataframe thead th {\n",
       "        text-align: right;\n",
       "    }\n",
       "</style>\n",
       "<table border=\"1\" class=\"dataframe\">\n",
       "  <thead>\n",
       "    <tr style=\"text-align: right;\">\n",
       "      <th></th>\n",
       "      <th>emotion</th>\n",
       "      <th>content</th>\n",
       "      <th>content_length</th>\n",
       "      <th>word_count</th>\n",
       "    </tr>\n",
       "  </thead>\n",
       "  <tbody>\n",
       "    <tr>\n",
       "      <th>0</th>\n",
       "      <td>happiness</td>\n",
       "      <td>victory for the bulldogs was celebrated by 3 w...</td>\n",
       "      <td>100</td>\n",
       "      <td>17</td>\n",
       "    </tr>\n",
       "    <tr>\n",
       "      <th>1</th>\n",
       "      <td>happiness</td>\n",
       "      <td>@saraLDS Thanks for that, Sara</td>\n",
       "      <td>30</td>\n",
       "      <td>5</td>\n",
       "    </tr>\n",
       "    <tr>\n",
       "      <th>2</th>\n",
       "      <td>happiness</td>\n",
       "      <td>@Tony_Mandarich well welcome back from the dar...</td>\n",
       "      <td>53</td>\n",
       "      <td>8</td>\n",
       "    </tr>\n",
       "    <tr>\n",
       "      <th>3</th>\n",
       "      <td>happiness</td>\n",
       "      <td>@sai_shediddy lol , you gotta share too</td>\n",
       "      <td>39</td>\n",
       "      <td>7</td>\n",
       "    </tr>\n",
       "    <tr>\n",
       "      <th>4</th>\n",
       "      <td>happiness</td>\n",
       "      <td>first up, make up for lost time with jelly. Ja...</td>\n",
       "      <td>119</td>\n",
       "      <td>24</td>\n",
       "    </tr>\n",
       "    <tr>\n",
       "      <th>5</th>\n",
       "      <td>happiness</td>\n",
       "      <td>@redrobinrockn next one for you!</td>\n",
       "      <td>32</td>\n",
       "      <td>5</td>\n",
       "    </tr>\n",
       "    <tr>\n",
       "      <th>6</th>\n",
       "      <td>happiness</td>\n",
       "      <td>Welcome @doeko ! Really glad to know you here....</td>\n",
       "      <td>68</td>\n",
       "      <td>13</td>\n",
       "    </tr>\n",
       "    <tr>\n",
       "      <th>7</th>\n",
       "      <td>happiness</td>\n",
       "      <td>is happy  and clean, squeaky clean</td>\n",
       "      <td>34</td>\n",
       "      <td>7</td>\n",
       "    </tr>\n",
       "    <tr>\n",
       "      <th>8</th>\n",
       "      <td>happiness</td>\n",
       "      <td>@Tottie Thank you, thank you!! Thought this is...</td>\n",
       "      <td>96</td>\n",
       "      <td>19</td>\n",
       "    </tr>\n",
       "    <tr>\n",
       "      <th>9</th>\n",
       "      <td>happiness</td>\n",
       "      <td>@aruky Yes, this NBA song is great!!!  Got an ...</td>\n",
       "      <td>126</td>\n",
       "      <td>21</td>\n",
       "    </tr>\n",
       "  </tbody>\n",
       "</table>\n",
       "</div>"
      ],
      "text/plain": [
       "     emotion                                            content  \\\n",
       "0  happiness  victory for the bulldogs was celebrated by 3 w...   \n",
       "1  happiness                     @saraLDS Thanks for that, Sara   \n",
       "2  happiness  @Tony_Mandarich well welcome back from the dar...   \n",
       "3  happiness            @sai_shediddy lol , you gotta share too   \n",
       "4  happiness  first up, make up for lost time with jelly. Ja...   \n",
       "5  happiness                   @redrobinrockn next one for you!   \n",
       "6  happiness  Welcome @doeko ! Really glad to know you here....   \n",
       "7  happiness                 is happy  and clean, squeaky clean   \n",
       "8  happiness  @Tottie Thank you, thank you!! Thought this is...   \n",
       "9  happiness  @aruky Yes, this NBA song is great!!!  Got an ...   \n",
       "\n",
       "   content_length  word_count  \n",
       "0             100          17  \n",
       "1              30           5  \n",
       "2              53           8  \n",
       "3              39           7  \n",
       "4             119          24  \n",
       "5              32           5  \n",
       "6              68          13  \n",
       "7              34           7  \n",
       "8              96          19  \n",
       "9             126          21  "
      ]
     },
     "execution_count": 4,
     "metadata": {},
     "output_type": "execute_result"
    }
   ],
   "source": [
    "train_data['content_length'] = train_data.content.apply(lambda x:len(x))\n",
    "train_data['word_count'] = train_data.content.apply(lambda x:len(x.split(' ')))\n",
    "train_data.head(10)"
   ]
  },
  {
   "cell_type": "code",
   "execution_count": 5,
   "metadata": {},
   "outputs": [
    {
     "data": {
      "image/png": "[encoded data removed]",
      "text/plain": [
       "<Figure size 432x288 with 1 Axes>"
      ]
     },
     "metadata": {
      "needs_background": "light"
     },
     "output_type": "display_data"
    }
   ],
   "source": [
    "plt.figure()\n",
    "plt.title('Tweet content length histogram')\n",
    "plt.hist(train_data.content_length, bins=30, color='c')\n",
    "plt.xlabel('text length')\n",
    "plt.ylabel('count')\n",
    "plt.show()"
   ]
  },
  {
   "cell_type": "code",
   "execution_count": 6,
   "metadata": {},
   "outputs": [
    {
     "data": {
      "image/png": "[encoded data removed]",
      "text/plain": [
       "<Figure size 432x288 with 1 Axes>"
      ]
     },
     "metadata": {
      "needs_background": "light"
     },
     "output_type": "display_data"
    }
   ],
   "source": [
    "plt.figure()\n",
    "plt.title('Tokens count histogram')\n",
    "plt.hist(train_data.word_count, bins=28, color='c')\n",
    "plt.xlabel('number of tokens')\n",
    "plt.ylabel('count')\n",
    "plt.show()"
   ]
  },
  {
   "cell_type": "code",
   "execution_count": 7,
   "metadata": {},
   "outputs": [],
   "source": [
    "import re"
   ]
  },
  {
   "cell_type": "code",
   "execution_count": 8,
   "metadata": {},
   "outputs": [
    {
     "data": {
      "text/plain": [
       "'@Tony_Mandarich well welcome back from the dark side! @saraLDS Thanks for that, Sara'"
      ]
     },
     "execution_count": 8,
     "metadata": {},
     "output_type": "execute_result"
    }
   ],
   "source": [
    "s = train_data.content[2] + ' '  + train_data.content[1]\n",
    "s"
   ]
  },
  {
   "cell_type": "code",
   "execution_count": 9,
   "metadata": {},
   "outputs": [
    {
     "data": {
      "text/plain": [
       "' well welcome back from the dark side!  Thanks for that, Sara'"
      ]
     },
     "execution_count": 9,
     "metadata": {},
     "output_type": "execute_result"
    }
   ],
   "source": [
    "# Tags removal\n",
    "re.sub(r'@[^\\s]+', '', s)"
   ]
  },
  {
   "cell_type": "markdown",
   "metadata": {},
   "source": [
    "Since 3+ dots might have some sentiment value, we want to keep them"
   ]
  },
  {
   "cell_type": "code",
   "execution_count": 10,
   "metadata": {},
   "outputs": [
    {
     "data": {
      "text/plain": [
       "'well. well.. well 3NEKUDOT  well 3NEKUDOT  well 3NEKUDOT '"
      ]
     },
     "execution_count": 10,
     "metadata": {},
     "output_type": "execute_result"
    }
   ],
   "source": [
    "THREE_DOTS_TOKEN = '3NEKUDOT'\n",
    "s = 'well. well.. well... well....... well.............'\n",
    "re.sub(r'\\.{3,}', ' ' + THREE_DOTS_TOKEN + ' ', s)"
   ]
  },
  {
   "cell_type": "code",
   "execution_count": 11,
   "metadata": {},
   "outputs": [
    {
     "data": {
      "text/plain": [
       "[' %^&*@#']"
      ]
     },
     "execution_count": 11,
     "metadata": {},
     "output_type": "execute_result"
    }
   ],
   "source": [
    "re.findall(r'[\\W]{3,}', 'you are a piece of %^&*@#')"
   ]
  },
  {
   "cell_type": "code",
   "execution_count": 12,
   "metadata": {},
   "outputs": [],
   "source": [
    "train_data['blahblah'] = train_data.content.apply(lambda x: len(re.findall(r'[^a-zA-Z0-9\\s!?.]{3,}', x)))"
   ]
  },
  {
   "cell_type": "code",
   "execution_count": 13,
   "metadata": {},
   "outputs": [
    {
     "data": {
      "text/plain": [
       "0    13507\n",
       "1      921\n",
       "2       57\n",
       "3        8\n",
       "4        4\n",
       "5        3\n",
       "9        1\n",
       "6        1\n",
       "7        1\n",
       "8        1\n",
       "Name: blahblah, dtype: int64"
      ]
     },
     "execution_count": 13,
     "metadata": {},
     "output_type": "execute_result"
    }
   ],
   "source": [
    "train_data['blahblah'].value_counts()"
   ]
  },
  {
   "cell_type": "markdown",
   "metadata": {},
   "source": [
    "Maybe we can find a list of known smiles and use them for happy / sad symbols"
   ]
  },
  {
   "cell_type": "code",
   "execution_count": 14,
   "metadata": {},
   "outputs": [
    {
     "data": {
      "text/plain": [
       "'@se7en.up cï¿½m on anh  ko the chiu no~i noi nhï¿½ Tifa roi :-D, thang Cloud danh dam gi mac ke no :&quot;&gt;'"
      ]
     },
     "execution_count": 14,
     "metadata": {},
     "output_type": "execute_result"
    }
   ],
   "source": [
    "s = train_data[train_data['blahblah'] > 1].content.iloc[10]\n",
    "s"
   ]
  },
  {
   "cell_type": "code",
   "execution_count": 15,
   "metadata": {},
   "outputs": [
    {
     "data": {
      "text/plain": [
       "'@  cï¿½m on anh  ko the chiu no~i noi nhï¿½ Tifa roi :-D, thang Cloud danh dam gi mac ke no :&quot;&gt;'"
      ]
     },
     "execution_count": 15,
     "metadata": {},
     "output_type": "execute_result"
    }
   ],
   "source": [
    "# Remoe links\n",
    "re.sub(r'(?:(?:https?|ftp):\\/\\/)?[\\w\\/\\-?=%.]+\\.[\\w\\/\\-&?=%.]+', ' ', s)"
   ]
  },
  {
   "cell_type": "code",
   "execution_count": 16,
   "metadata": {},
   "outputs": [
    {
     "data": {
      "text/plain": [
       "'@se7en.up cï¿½m on anh  ko the chiu no~i noi nhï¿½ Tifa roi :-D, thang Cloud danh dam gi mac ke no :  '"
      ]
     },
     "execution_count": 16,
     "metadata": {},
     "output_type": "execute_result"
    }
   ],
   "source": [
    "# Remvoe HTML entities (&amp; &nbsp; ....)\n",
    "re.sub(r'&[\\w]+;', ' ', s)"
   ]
  },
  {
   "cell_type": "code",
   "execution_count": 17,
   "metadata": {},
   "outputs": [],
   "source": [
    "train_data['3dots'] = train_data.content.apply(lambda x: ('...' in str(x)))"
   ]
  },
  {
   "cell_type": "code",
   "execution_count": 18,
   "metadata": {},
   "outputs": [
    {
     "data": {
      "text/plain": [
       "False    12636\n",
       "True      1868\n",
       "Name: 3dots, dtype: int64"
      ]
     },
     "execution_count": 18,
     "metadata": {},
     "output_type": "execute_result"
    }
   ],
   "source": [
    "train_data['3dots'].value_counts()"
   ]
  },
  {
   "cell_type": "code",
   "execution_count": 19,
   "metadata": {},
   "outputs": [],
   "source": [
    "import nltk\n",
    "from nltk.stem import PorterStemmer\n",
    "from nltk.corpus import stopwords\n",
    "THREE_DOTS_TOKEN = '3NEKUDOT'\n",
    "STOPWORDS = stopwords.words('english')\n",
    "\n",
    "stemmer = PorterStemmer()\n",
    "\n",
    "def text_processing(s:str):\n",
    "    # remove tags\n",
    "    s = re.sub(r'@[^\\s]+', ' ', s)\n",
    "    # add space to ! or ?\n",
    "    s = re.sub('[!]', ' ! ', s)\n",
    "    s = re.sub('[?]', ' ? ', s)\n",
    "    # replace 3+ docs with special token\n",
    "    s = re.sub(r'\\.{3,}', ' ' + THREE_DOTS_TOKEN + ' ', s)\n",
    "    # remove URL\n",
    "    s = re.sub(r'(?:(?:https?|ftp):\\/\\/)?[\\w\\/\\-?=%.]+\\.[\\w\\/\\-&?=%.]+', ' ', s)\n",
    "    # remove special characters\n",
    "    s = re.sub(r'[^a-zA-Z\\s!?]', ' ', s)\n",
    "    # remove extra space with a single space\n",
    "    s = re.sub(r'\\s\\s+', ' ', s)\n",
    "    # convert to lower\n",
    "    s = s.lower()\n",
    "    # tokenize and remove stopwords\n",
    "    tokens = [stemmer.stem(w) for w in s.split(' ') if w not in STOPWORDS]\n",
    "    return tokens"
   ]
  },
  {
   "cell_type": "code",
   "execution_count": 20,
   "metadata": {},
   "outputs": [
    {
     "data": {
      "text/html": [
       "<div>\n",
       "<style scoped>\n",
       "    .dataframe tbody tr th:only-of-type {\n",
       "        vertical-align: middle;\n",
       "    }\n",
       "\n",
       "    .dataframe tbody tr th {\n",
       "        vertical-align: top;\n",
       "    }\n",
       "\n",
       "    .dataframe thead th {\n",
       "        text-align: right;\n",
       "    }\n",
       "</style>\n",
       "<table border=\"1\" class=\"dataframe\">\n",
       "  <thead>\n",
       "    <tr style=\"text-align: right;\">\n",
       "      <th></th>\n",
       "      <th>content</th>\n",
       "      <th>clean_content</th>\n",
       "    </tr>\n",
       "  </thead>\n",
       "  <tbody>\n",
       "    <tr>\n",
       "      <th>0</th>\n",
       "      <td>victory for the bulldogs was celebrated by 3 w...</td>\n",
       "      <td>[victori, bulldog, celebr, white, chocol, chee...</td>\n",
       "    </tr>\n",
       "    <tr>\n",
       "      <th>1</th>\n",
       "      <td>@saraLDS Thanks for that, Sara</td>\n",
       "      <td>[, thank, sara]</td>\n",
       "    </tr>\n",
       "    <tr>\n",
       "      <th>2</th>\n",
       "      <td>@Tony_Mandarich well welcome back from the dar...</td>\n",
       "      <td>[, well, welcom, back, dark, side, !, ]</td>\n",
       "    </tr>\n",
       "    <tr>\n",
       "      <th>3</th>\n",
       "      <td>@sai_shediddy lol , you gotta share too</td>\n",
       "      <td>[, lol, gotta, share]</td>\n",
       "    </tr>\n",
       "    <tr>\n",
       "      <th>4</th>\n",
       "      <td>first up, make up for lost time with jelly. Ja...</td>\n",
       "      <td>[first, make, lost, time, jelli, jalan, jalan,...</td>\n",
       "    </tr>\n",
       "    <tr>\n",
       "      <th>...</th>\n",
       "      <td>...</td>\n",
       "      <td>...</td>\n",
       "    </tr>\n",
       "    <tr>\n",
       "      <th>14499</th>\n",
       "      <td>Wish I lived in or atleast relatively close to...</td>\n",
       "      <td>[wish, live, atleast, rel, close, ohio, !, see...</td>\n",
       "    </tr>\n",
       "    <tr>\n",
       "      <th>14500</th>\n",
       "      <td>@3Gguy and within a short time of the last clu...</td>\n",
       "      <td>[, within, short, time, last, clue]</td>\n",
       "    </tr>\n",
       "    <tr>\n",
       "      <th>14501</th>\n",
       "      <td>my phone still doesnt tweet</td>\n",
       "      <td>[phone, still, doesnt, tweet]</td>\n",
       "    </tr>\n",
       "    <tr>\n",
       "      <th>14502</th>\n",
       "      <td>@blindcripple Good idea Brain, you can't not b...</td>\n",
       "      <td>[, good, idea, brain, twitter, nekudot, ]</td>\n",
       "    </tr>\n",
       "    <tr>\n",
       "      <th>14503</th>\n",
       "      <td>@mrskutcher just checked library website and g...</td>\n",
       "      <td>[, check, librari, websit, girl, dragon, tatto...</td>\n",
       "    </tr>\n",
       "  </tbody>\n",
       "</table>\n",
       "<p>14504 rows × 2 columns</p>\n",
       "</div>"
      ],
      "text/plain": [
       "                                                 content  \\\n",
       "0      victory for the bulldogs was celebrated by 3 w...   \n",
       "1                         @saraLDS Thanks for that, Sara   \n",
       "2      @Tony_Mandarich well welcome back from the dar...   \n",
       "3                @sai_shediddy lol , you gotta share too   \n",
       "4      first up, make up for lost time with jelly. Ja...   \n",
       "...                                                  ...   \n",
       "14499  Wish I lived in or atleast relatively close to...   \n",
       "14500  @3Gguy and within a short time of the last clu...   \n",
       "14501                        my phone still doesnt tweet   \n",
       "14502  @blindcripple Good idea Brain, you can't not b...   \n",
       "14503  @mrskutcher just checked library website and g...   \n",
       "\n",
       "                                           clean_content  \n",
       "0      [victori, bulldog, celebr, white, chocol, chee...  \n",
       "1                                        [, thank, sara]  \n",
       "2                [, well, welcom, back, dark, side, !, ]  \n",
       "3                                  [, lol, gotta, share]  \n",
       "4      [first, make, lost, time, jelli, jalan, jalan,...  \n",
       "...                                                  ...  \n",
       "14499  [wish, live, atleast, rel, close, ohio, !, see...  \n",
       "14500                [, within, short, time, last, clue]  \n",
       "14501                      [phone, still, doesnt, tweet]  \n",
       "14502          [, good, idea, brain, twitter, nekudot, ]  \n",
       "14503  [, check, librari, websit, girl, dragon, tatto...  \n",
       "\n",
       "[14504 rows x 2 columns]"
      ]
     },
     "execution_count": 20,
     "metadata": {},
     "output_type": "execute_result"
    }
   ],
   "source": [
    "train_data['clean_content'] = train_data.content.apply(text_processing)\n",
    "train_data[['content', 'clean_content']]"
   ]
  },
  {
   "cell_type": "code",
   "execution_count": 21,
   "metadata": {},
   "outputs": [
    {
     "data": {
      "text/html": [
       "<div>\n",
       "<style scoped>\n",
       "    .dataframe tbody tr th:only-of-type {\n",
       "        vertical-align: middle;\n",
       "    }\n",
       "\n",
       "    .dataframe tbody tr th {\n",
       "        vertical-align: top;\n",
       "    }\n",
       "\n",
       "    .dataframe thead th {\n",
       "        text-align: right;\n",
       "    }\n",
       "</style>\n",
       "<table border=\"1\" class=\"dataframe\">\n",
       "  <thead>\n",
       "    <tr style=\"text-align: right;\">\n",
       "      <th></th>\n",
       "      <th>emotion</th>\n",
       "      <th>content</th>\n",
       "      <th>content_length</th>\n",
       "      <th>word_count</th>\n",
       "      <th>blahblah</th>\n",
       "      <th>3dots</th>\n",
       "      <th>clean_content</th>\n",
       "      <th>clean_content_length</th>\n",
       "      <th>clean_word_count</th>\n",
       "    </tr>\n",
       "  </thead>\n",
       "  <tbody>\n",
       "    <tr>\n",
       "      <th>0</th>\n",
       "      <td>happiness</td>\n",
       "      <td>victory for the bulldogs was celebrated by 3 w...</td>\n",
       "      <td>100</td>\n",
       "      <td>17</td>\n",
       "      <td>0</td>\n",
       "      <td>False</td>\n",
       "      <td>[victori, bulldog, celebr, white, chocol, chee...</td>\n",
       "      <td>72</td>\n",
       "      <td>11</td>\n",
       "    </tr>\n",
       "    <tr>\n",
       "      <th>1</th>\n",
       "      <td>happiness</td>\n",
       "      <td>@saraLDS Thanks for that, Sara</td>\n",
       "      <td>30</td>\n",
       "      <td>5</td>\n",
       "      <td>0</td>\n",
       "      <td>False</td>\n",
       "      <td>[, thank, sara]</td>\n",
       "      <td>11</td>\n",
       "      <td>3</td>\n",
       "    </tr>\n",
       "    <tr>\n",
       "      <th>2</th>\n",
       "      <td>happiness</td>\n",
       "      <td>@Tony_Mandarich well welcome back from the dar...</td>\n",
       "      <td>53</td>\n",
       "      <td>8</td>\n",
       "      <td>0</td>\n",
       "      <td>False</td>\n",
       "      <td>[, well, welcom, back, dark, side, !, ]</td>\n",
       "      <td>30</td>\n",
       "      <td>8</td>\n",
       "    </tr>\n",
       "    <tr>\n",
       "      <th>3</th>\n",
       "      <td>happiness</td>\n",
       "      <td>@sai_shediddy lol , you gotta share too</td>\n",
       "      <td>39</td>\n",
       "      <td>7</td>\n",
       "      <td>0</td>\n",
       "      <td>False</td>\n",
       "      <td>[, lol, gotta, share]</td>\n",
       "      <td>16</td>\n",
       "      <td>4</td>\n",
       "    </tr>\n",
       "    <tr>\n",
       "      <th>4</th>\n",
       "      <td>happiness</td>\n",
       "      <td>first up, make up for lost time with jelly. Ja...</td>\n",
       "      <td>119</td>\n",
       "      <td>24</td>\n",
       "      <td>0</td>\n",
       "      <td>False</td>\n",
       "      <td>[first, make, lost, time, jelli, jalan, jalan,...</td>\n",
       "      <td>67</td>\n",
       "      <td>11</td>\n",
       "    </tr>\n",
       "    <tr>\n",
       "      <th>5</th>\n",
       "      <td>happiness</td>\n",
       "      <td>@redrobinrockn next one for you!</td>\n",
       "      <td>32</td>\n",
       "      <td>5</td>\n",
       "      <td>0</td>\n",
       "      <td>False</td>\n",
       "      <td>[, next, one, !, ]</td>\n",
       "      <td>12</td>\n",
       "      <td>5</td>\n",
       "    </tr>\n",
       "    <tr>\n",
       "      <th>6</th>\n",
       "      <td>happiness</td>\n",
       "      <td>Welcome @doeko ! Really glad to know you here....</td>\n",
       "      <td>68</td>\n",
       "      <td>13</td>\n",
       "      <td>0</td>\n",
       "      <td>False</td>\n",
       "      <td>[welcom, !, realli, glad, know, product, rox, ...</td>\n",
       "      <td>41</td>\n",
       "      <td>8</td>\n",
       "    </tr>\n",
       "    <tr>\n",
       "      <th>7</th>\n",
       "      <td>happiness</td>\n",
       "      <td>is happy  and clean, squeaky clean</td>\n",
       "      <td>34</td>\n",
       "      <td>7</td>\n",
       "      <td>0</td>\n",
       "      <td>False</td>\n",
       "      <td>[happi, clean, squeaki, clean]</td>\n",
       "      <td>25</td>\n",
       "      <td>4</td>\n",
       "    </tr>\n",
       "    <tr>\n",
       "      <th>8</th>\n",
       "      <td>happiness</td>\n",
       "      <td>@Tottie Thank you, thank you!! Thought this is...</td>\n",
       "      <td>96</td>\n",
       "      <td>19</td>\n",
       "      <td>0</td>\n",
       "      <td>False</td>\n",
       "      <td>[, thank, thank, !, !, thought, cool, kid, han...</td>\n",
       "      <td>51</td>\n",
       "      <td>13</td>\n",
       "    </tr>\n",
       "    <tr>\n",
       "      <th>9</th>\n",
       "      <td>happiness</td>\n",
       "      <td>@aruky Yes, this NBA song is great!!!  Got an ...</td>\n",
       "      <td>126</td>\n",
       "      <td>21</td>\n",
       "      <td>0</td>\n",
       "      <td>False</td>\n",
       "      <td>[, ye, nba, song, great, !, !, !, got, old, fu...</td>\n",
       "      <td>97</td>\n",
       "      <td>21</td>\n",
       "    </tr>\n",
       "  </tbody>\n",
       "</table>\n",
       "</div>"
      ],
      "text/plain": [
       "     emotion                                            content  \\\n",
       "0  happiness  victory for the bulldogs was celebrated by 3 w...   \n",
       "1  happiness                     @saraLDS Thanks for that, Sara   \n",
       "2  happiness  @Tony_Mandarich well welcome back from the dar...   \n",
       "3  happiness            @sai_shediddy lol , you gotta share too   \n",
       "4  happiness  first up, make up for lost time with jelly. Ja...   \n",
       "5  happiness                   @redrobinrockn next one for you!   \n",
       "6  happiness  Welcome @doeko ! Really glad to know you here....   \n",
       "7  happiness                 is happy  and clean, squeaky clean   \n",
       "8  happiness  @Tottie Thank you, thank you!! Thought this is...   \n",
       "9  happiness  @aruky Yes, this NBA song is great!!!  Got an ...   \n",
       "\n",
       "   content_length  word_count  blahblah  3dots  \\\n",
       "0             100          17         0  False   \n",
       "1              30           5         0  False   \n",
       "2              53           8         0  False   \n",
       "3              39           7         0  False   \n",
       "4             119          24         0  False   \n",
       "5              32           5         0  False   \n",
       "6              68          13         0  False   \n",
       "7              34           7         0  False   \n",
       "8              96          19         0  False   \n",
       "9             126          21         0  False   \n",
       "\n",
       "                                       clean_content  clean_content_length  \\\n",
       "0  [victori, bulldog, celebr, white, chocol, chee...                    72   \n",
       "1                                    [, thank, sara]                    11   \n",
       "2            [, well, welcom, back, dark, side, !, ]                    30   \n",
       "3                              [, lol, gotta, share]                    16   \n",
       "4  [first, make, lost, time, jelli, jalan, jalan,...                    67   \n",
       "5                                 [, next, one, !, ]                    12   \n",
       "6  [welcom, !, realli, glad, know, product, rox, ...                    41   \n",
       "7                     [happi, clean, squeaki, clean]                    25   \n",
       "8  [, thank, thank, !, !, thought, cool, kid, han...                    51   \n",
       "9  [, ye, nba, song, great, !, !, !, got, old, fu...                    97   \n",
       "\n",
       "   clean_word_count  \n",
       "0                11  \n",
       "1                 3  \n",
       "2                 8  \n",
       "3                 4  \n",
       "4                11  \n",
       "5                 5  \n",
       "6                 8  \n",
       "7                 4  \n",
       "8                13  \n",
       "9                21  "
      ]
     },
     "execution_count": 21,
     "metadata": {},
     "output_type": "execute_result"
    }
   ],
   "source": [
    "train_data['clean_content_length'] = train_data.clean_content.apply(lambda x:len(' '.join(x)))\n",
    "train_data['clean_word_count'] = train_data.clean_content.apply(lambda x:len(x))\n",
    "train_data.head(10)"
   ]
  },
  {
   "cell_type": "code",
   "execution_count": 22,
   "metadata": {},
   "outputs": [
    {
     "data": {
      "image/png": "[encoded data removed]",
      "text/plain": [
       "<Figure size 432x288 with 1 Axes>"
      ]
     },
     "metadata": {
      "needs_background": "light"
     },
     "output_type": "display_data"
    }
   ],
   "source": [
    "plt.figure()\n",
    "plt.title('Content length histogram')\n",
    "plt.hist(train_data.clean_content_length, bins=30, color='r', alpha=0.5)\n",
    "plt.hist(train_data.content_length, bins=30, color='c', alpha=0.5)\n",
    "plt.legend(['clean', 'raw'])\n",
    "plt.xlabel('text length')\n",
    "plt.ylabel('count')\n",
    "plt.show()"
   ]
  },
  {
   "cell_type": "code",
   "execution_count": 23,
   "metadata": {},
   "outputs": [
    {
     "data": {
      "image/png": "[encoded data removed]",
      "text/plain": [
       "<Figure size 432x288 with 1 Axes>"
      ]
     },
     "metadata": {
      "needs_background": "light"
     },
     "output_type": "display_data"
    }
   ],
   "source": [
    "plt.figure()\n",
    "plt.title('Tokens count histogram')\n",
    "plt.hist(train_data.clean_word_count, bins=28, color='r', alpha=0.5)\n",
    "plt.hist(train_data.word_count, bins=28, color='c', alpha=0.5)\n",
    "plt.legend(['clean', 'raw'])\n",
    "plt.xlabel('number of tokens')\n",
    "plt.ylabel('count')\n",
    "plt.show()"
   ]
  },
  {
   "cell_type": "code",
   "execution_count": 8,
   "metadata": {},
   "outputs": [
    {
     "data": {
      "text/plain": [
       "['i', 'me', 'my', 'myself', 'we']"
      ]
     },
     "execution_count": 8,
     "metadata": {},
     "output_type": "execute_result"
    }
   ],
   "source": [
    "import nltk\n",
    "from nltk.corpus import stopwords\n",
    "STOPWORDS = stopwords.words('english')\n",
    "STOPWORDS = [x.lower().replace(\"'\",'') for x in STOPWORDS]\n",
    "STOPWORDS[:5]"
   ]
  },
  {
   "cell_type": "code",
   "execution_count": 11,
   "metadata": {},
   "outputs": [],
   "source": [
    "with open('stopwords.txt', 'w') as f:\n",
    "    f.write('\\n'.join(STOPWORDS))"
   ]
  },
  {
   "cell_type": "code",
   "execution_count": 14,
   "metadata": {},
   "outputs": [
    {
     "data": {
      "text/plain": [
       "['i',\n",
       " 'me',\n",
       " 'my',\n",
       " 'myself',\n",
       " 'we',\n",
       " 'our',\n",
       " 'ours',\n",
       " 'ourselves',\n",
       " 'you',\n",
       " 'youre',\n",
       " 'youve',\n",
       " 'youll',\n",
       " 'youd',\n",
       " 'your',\n",
       " 'yours',\n",
       " 'yourself',\n",
       " 'yourselves',\n",
       " 'he',\n",
       " 'him',\n",
       " 'his',\n",
       " 'himself',\n",
       " 'she',\n",
       " 'shes',\n",
       " 'her',\n",
       " 'hers',\n",
       " 'herself',\n",
       " 'it',\n",
       " 'its',\n",
       " 'its',\n",
       " 'itself',\n",
       " 'they',\n",
       " 'them',\n",
       " 'their',\n",
       " 'theirs',\n",
       " 'themselves',\n",
       " 'what',\n",
       " 'which',\n",
       " 'who',\n",
       " 'whom',\n",
       " 'this',\n",
       " 'that',\n",
       " 'thatll',\n",
       " 'these',\n",
       " 'those',\n",
       " 'am',\n",
       " 'is',\n",
       " 'are',\n",
       " 'was',\n",
       " 'were',\n",
       " 'be',\n",
       " 'been',\n",
       " 'being',\n",
       " 'have',\n",
       " 'has',\n",
       " 'had',\n",
       " 'having',\n",
       " 'do',\n",
       " 'does',\n",
       " 'did',\n",
       " 'doing',\n",
       " 'a',\n",
       " 'an',\n",
       " 'the',\n",
       " 'and',\n",
       " 'but',\n",
       " 'if',\n",
       " 'or',\n",
       " 'because',\n",
       " 'as',\n",
       " 'until',\n",
       " 'while',\n",
       " 'of',\n",
       " 'at',\n",
       " 'by',\n",
       " 'for',\n",
       " 'with',\n",
       " 'about',\n",
       " 'against',\n",
       " 'between',\n",
       " 'into',\n",
       " 'through',\n",
       " 'during',\n",
       " 'before',\n",
       " 'after',\n",
       " 'above',\n",
       " 'below',\n",
       " 'to',\n",
       " 'from',\n",
       " 'up',\n",
       " 'down',\n",
       " 'in',\n",
       " 'out',\n",
       " 'on',\n",
       " 'off',\n",
       " 'over',\n",
       " 'under',\n",
       " 'again',\n",
       " 'further',\n",
       " 'then',\n",
       " 'once',\n",
       " 'here',\n",
       " 'there',\n",
       " 'when',\n",
       " 'where',\n",
       " 'why',\n",
       " 'how',\n",
       " 'all',\n",
       " 'any',\n",
       " 'both',\n",
       " 'each',\n",
       " 'few',\n",
       " 'more',\n",
       " 'most',\n",
       " 'other',\n",
       " 'some',\n",
       " 'such',\n",
       " 'no',\n",
       " 'nor',\n",
       " 'not',\n",
       " 'only',\n",
       " 'own',\n",
       " 'same',\n",
       " 'so',\n",
       " 'than',\n",
       " 'too',\n",
       " 'very',\n",
       " 's',\n",
       " 't',\n",
       " 'can',\n",
       " 'will',\n",
       " 'just',\n",
       " 'don',\n",
       " 'dont',\n",
       " 'should',\n",
       " 'shouldve',\n",
       " 'now',\n",
       " 'd',\n",
       " 'll',\n",
       " 'm',\n",
       " 'o',\n",
       " 're',\n",
       " 've',\n",
       " 'y',\n",
       " 'ain',\n",
       " 'aren',\n",
       " 'arent',\n",
       " 'couldn',\n",
       " 'couldnt',\n",
       " 'didn',\n",
       " 'didnt',\n",
       " 'doesn',\n",
       " 'doesnt',\n",
       " 'hadn',\n",
       " 'hadnt',\n",
       " 'hasn',\n",
       " 'hasnt',\n",
       " 'haven',\n",
       " 'havent',\n",
       " 'isn',\n",
       " 'isnt',\n",
       " 'ma',\n",
       " 'mightn',\n",
       " 'mightnt',\n",
       " 'mustn',\n",
       " 'mustnt',\n",
       " 'needn',\n",
       " 'neednt',\n",
       " 'shan',\n",
       " 'shant',\n",
       " 'shouldn',\n",
       " 'shouldnt',\n",
       " 'wasn',\n",
       " 'wasnt',\n",
       " 'weren',\n",
       " 'werent',\n",
       " 'won',\n",
       " 'wont',\n",
       " 'wouldn',\n",
       " 'wouldnt']"
      ]
     },
     "execution_count": 14,
     "metadata": {},
     "output_type": "execute_result"
    }
   ],
   "source": [
    "with open('stopwords.txt', 'r') as f:\n",
    "    STOPWORDS = [x.strip() for x in f.readlines()]\n",
    "STOPWORDS"
   ]
  },
  {
   "cell_type": "code",
   "execution_count": 13,
   "metadata": {},
   "outputs": [
    {
     "data": {
      "text/plain": [
       "['i\\n',\n",
       " 'me\\n',\n",
       " 'my\\n',\n",
       " 'myself\\n',\n",
       " 'we\\n',\n",
       " 'our\\n',\n",
       " 'ours\\n',\n",
       " 'ourselves\\n',\n",
       " 'you\\n',\n",
       " 'youre\\n',\n",
       " 'youve\\n',\n",
       " 'youll\\n',\n",
       " 'youd\\n',\n",
       " 'your\\n',\n",
       " 'yours\\n',\n",
       " 'yourself\\n',\n",
       " 'yourselves\\n',\n",
       " 'he\\n',\n",
       " 'him\\n',\n",
       " 'his\\n',\n",
       " 'himself\\n',\n",
       " 'she\\n',\n",
       " 'shes\\n',\n",
       " 'her\\n',\n",
       " 'hers\\n',\n",
       " 'herself\\n',\n",
       " 'it\\n',\n",
       " 'its\\n',\n",
       " 'its\\n',\n",
       " 'itself\\n',\n",
       " 'they\\n',\n",
       " 'them\\n',\n",
       " 'their\\n',\n",
       " 'theirs\\n',\n",
       " 'themselves\\n',\n",
       " 'what\\n',\n",
       " 'which\\n',\n",
       " 'who\\n',\n",
       " 'whom\\n',\n",
       " 'this\\n',\n",
       " 'that\\n',\n",
       " 'thatll\\n',\n",
       " 'these\\n',\n",
       " 'those\\n',\n",
       " 'am\\n',\n",
       " 'is\\n',\n",
       " 'are\\n',\n",
       " 'was\\n',\n",
       " 'were\\n',\n",
       " 'be\\n',\n",
       " 'been\\n',\n",
       " 'being\\n',\n",
       " 'have\\n',\n",
       " 'has\\n',\n",
       " 'had\\n',\n",
       " 'having\\n',\n",
       " 'do\\n',\n",
       " 'does\\n',\n",
       " 'did\\n',\n",
       " 'doing\\n',\n",
       " 'a\\n',\n",
       " 'an\\n',\n",
       " 'the\\n',\n",
       " 'and\\n',\n",
       " 'but\\n',\n",
       " 'if\\n',\n",
       " 'or\\n',\n",
       " 'because\\n',\n",
       " 'as\\n',\n",
       " 'until\\n',\n",
       " 'while\\n',\n",
       " 'of\\n',\n",
       " 'at\\n',\n",
       " 'by\\n',\n",
       " 'for\\n',\n",
       " 'with\\n',\n",
       " 'about\\n',\n",
       " 'against\\n',\n",
       " 'between\\n',\n",
       " 'into\\n',\n",
       " 'through\\n',\n",
       " 'during\\n',\n",
       " 'before\\n',\n",
       " 'after\\n',\n",
       " 'above\\n',\n",
       " 'below\\n',\n",
       " 'to\\n',\n",
       " 'from\\n',\n",
       " 'up\\n',\n",
       " 'down\\n',\n",
       " 'in\\n',\n",
       " 'out\\n',\n",
       " 'on\\n',\n",
       " 'off\\n',\n",
       " 'over\\n',\n",
       " 'under\\n',\n",
       " 'again\\n',\n",
       " 'further\\n',\n",
       " 'then\\n',\n",
       " 'once\\n',\n",
       " 'here\\n',\n",
       " 'there\\n',\n",
       " 'when\\n',\n",
       " 'where\\n',\n",
       " 'why\\n',\n",
       " 'how\\n',\n",
       " 'all\\n',\n",
       " 'any\\n',\n",
       " 'both\\n',\n",
       " 'each\\n',\n",
       " 'few\\n',\n",
       " 'more\\n',\n",
       " 'most\\n',\n",
       " 'other\\n',\n",
       " 'some\\n',\n",
       " 'such\\n',\n",
       " 'no\\n',\n",
       " 'nor\\n',\n",
       " 'not\\n',\n",
       " 'only\\n',\n",
       " 'own\\n',\n",
       " 'same\\n',\n",
       " 'so\\n',\n",
       " 'than\\n',\n",
       " 'too\\n',\n",
       " 'very\\n',\n",
       " 's\\n',\n",
       " 't\\n',\n",
       " 'can\\n',\n",
       " 'will\\n',\n",
       " 'just\\n',\n",
       " 'don\\n',\n",
       " 'dont\\n',\n",
       " 'should\\n',\n",
       " 'shouldve\\n',\n",
       " 'now\\n',\n",
       " 'd\\n',\n",
       " 'll\\n',\n",
       " 'm\\n',\n",
       " 'o\\n',\n",
       " 're\\n',\n",
       " 've\\n',\n",
       " 'y\\n',\n",
       " 'ain\\n',\n",
       " 'aren\\n',\n",
       " 'arent\\n',\n",
       " 'couldn\\n',\n",
       " 'couldnt\\n',\n",
       " 'didn\\n',\n",
       " 'didnt\\n',\n",
       " 'doesn\\n',\n",
       " 'doesnt\\n',\n",
       " 'hadn\\n',\n",
       " 'hadnt\\n',\n",
       " 'hasn\\n',\n",
       " 'hasnt\\n',\n",
       " 'haven\\n',\n",
       " 'havent\\n',\n",
       " 'isn\\n',\n",
       " 'isnt\\n',\n",
       " 'ma\\n',\n",
       " 'mightn\\n',\n",
       " 'mightnt\\n',\n",
       " 'mustn\\n',\n",
       " 'mustnt\\n',\n",
       " 'needn\\n',\n",
       " 'neednt\\n',\n",
       " 'shan\\n',\n",
       " 'shant\\n',\n",
       " 'shouldn\\n',\n",
       " 'shouldnt\\n',\n",
       " 'wasn\\n',\n",
       " 'wasnt\\n',\n",
       " 'weren\\n',\n",
       " 'werent\\n',\n",
       " 'won\\n',\n",
       " 'wont\\n',\n",
       " 'wouldn\\n',\n",
       " 'wouldnt']"
      ]
     },
     "execution_count": 13,
     "metadata": {},
     "output_type": "execute_result"
    }
   ],
   "source": [
    "STOPWORDS"
   ]
  }
 ],
 "metadata": {
  "interpreter": {
   "hash": "7d538358a4a844c2698117f72ddbeea822b864d784b5f9260aa8445549be4a00"
  },
  "kernelspec": {
   "display_name": "Python 3.10.4 ('deep')",
   "language": "python",
   "name": "python3"
  },
  "language_info": {
   "codemirror_mode": {
    "name": "ipython",
    "version": 3
   },
   "file_extension": ".py",
   "mimetype": "text/x-python",
   "name": "python",
   "nbconvert_exporter": "python",
   "pygments_lexer": "ipython3",
   "version": "3.10.4"
  },
  "orig_nbformat": 4
 },
 "nbformat": 4,
 "nbformat_minor": 2
}
