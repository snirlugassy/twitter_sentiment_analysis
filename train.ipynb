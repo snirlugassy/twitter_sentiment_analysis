{
 "cells": [
  {
   "cell_type": "code",
   "execution_count": 18,
   "metadata": {},
   "outputs": [],
   "source": [
    "import torch\n",
    "from dataset import SentimentAnalysisDataset\n",
    "import pickle\n",
    "from model import SentimentLSTM\n",
    "from torch.nn import CrossEntropyLoss\n",
    "\n",
    "from datetime import datetime\n",
    "import os\n",
    "import csv\n",
    "import argparse\n",
    "import pickle\n",
    "import torch\n",
    "\n",
    "from models.gru import SentimentGRU_A\n",
    "from models.transformer import SentimentTransformerEncoder_C\n",
    "\n",
    "from dataset import SentimentAnalysisDataset\n",
    "\n",
    "OPTIMIZERS = {\n",
    "    'adam': torch.optim.Adam,\n",
    "    'adadelta': torch.optim.Adadelta,\n",
    "    'sgd': torch.optim.SGD,\n",
    "    'adagrad': torch.optim.Adagrad\n",
    "}\n",
    "\n",
    "MODELS = {\n",
    "    'a': SentimentTransformerEncoder_C,\n",
    "    'b': None,\n",
    "    'c': SentimentGRU_A\n",
    "}\n",
    "\n",
    "data_path = 'data/trainEmotions.csv'\n",
    "device = torch.device('cuda' if torch.cuda.is_available() else 'cpu')\n",
    "\n",
    "loss = torch.nn.CrossEntropyLoss()"
   ]
  },
  {
   "cell_type": "code",
   "execution_count": 9,
   "metadata": {},
   "outputs": [
    {
     "name": "stdout",
     "output_type": "stream",
     "text": [
      "-> Loading word embeddings\n"
     ]
    },
    {
     "data": {
      "text/plain": [
       "(torch.Size([3, 100]), torch.Size([3]))"
      ]
     },
     "execution_count": 9,
     "metadata": {},
     "output_type": "execute_result"
    }
   ],
   "source": [
    "dataset = SentimentAnalysisDataset(data_path)\n",
    "x,y = dataset[0]\n",
    "x.shape, y.shape"
   ]
  },
  {
   "cell_type": "code",
   "execution_count": 13,
   "metadata": {},
   "outputs": [],
   "source": [
    "model_a = MODELS['a'](100)\n",
    "model_a.to(device)\n",
    "model_a = model_a.double()"
   ]
  },
  {
   "cell_type": "code",
   "execution_count": 16,
   "metadata": {},
   "outputs": [],
   "source": [
    "model_c = MODELS['c'](100)\n",
    "model_c.to(device)\n",
    "model_c = model_c.double()"
   ]
  },
  {
   "cell_type": "code",
   "execution_count": 19,
   "metadata": {},
   "outputs": [
    {
     "data": {
      "text/plain": [
       "(torch.Size([3]), torch.Size([3]))"
      ]
     },
     "execution_count": 19,
     "metadata": {},
     "output_type": "execute_result"
    }
   ],
   "source": [
    "out1 = model_a(x)\n",
    "out2 = model_c(x)\n",
    "out1.shape, out2.shape"
   ]
  },
  {
   "cell_type": "code",
   "execution_count": 27,
   "metadata": {},
   "outputs": [
    {
     "data": {
      "text/plain": [
       "(1, True)"
      ]
     },
     "execution_count": 27,
     "metadata": {},
     "output_type": "execute_result"
    }
   ],
   "source": [
    "out1.dim(), out1.shape[0] == 3"
   ]
  },
  {
   "cell_type": "code",
   "execution_count": 22,
   "metadata": {},
   "outputs": [
    {
     "data": {
      "text/plain": [
       "1.1226701458014448"
      ]
     },
     "execution_count": 22,
     "metadata": {},
     "output_type": "execute_result"
    }
   ],
   "source": [
    "L1 = loss(out1, y.argmax())\n",
    "L1.item()"
   ]
  },
  {
   "cell_type": "code",
   "execution_count": 23,
   "metadata": {},
   "outputs": [
    {
     "data": {
      "text/plain": [
       "1.0272111718247763"
      ]
     },
     "execution_count": 23,
     "metadata": {},
     "output_type": "execute_result"
    }
   ],
   "source": [
    "L2 = loss(out2, y.argmax())\n",
    "L2.item()"
   ]
  }
 ],
 "metadata": {
  "interpreter": {
   "hash": "7d538358a4a844c2698117f72ddbeea822b864d784b5f9260aa8445549be4a00"
  },
  "kernelspec": {
   "display_name": "Python 3.10.4 ('deep')",
   "language": "python",
   "name": "python3"
  },
  "language_info": {
   "codemirror_mode": {
    "name": "ipython",
    "version": 3
   },
   "file_extension": ".py",
   "mimetype": "text/x-python",
   "name": "python",
   "nbconvert_exporter": "python",
   "pygments_lexer": "ipython3",
   "version": "3.10.4"
  },
  "orig_nbformat": 4
 },
 "nbformat": 4,
 "nbformat_minor": 2
}
