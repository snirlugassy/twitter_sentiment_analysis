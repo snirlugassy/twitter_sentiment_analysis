{
 "cells": [
  {
   "cell_type": "code",
   "execution_count": 4,
   "metadata": {},
   "outputs": [
    {
     "name": "stdout",
     "output_type": "stream",
     "text": [
      "====== TEST =======\n",
      "device: cpu\n",
      "-> Loading vocabulary\n",
      "-> Loading datasets\n",
      "-> Initalizing model\n"
     ]
    }
   ],
   "source": [
    "import os\n",
    "import pickle\n",
    "import torch\n",
    "import numpy as np\n",
    "from model import SentimentLSTM\n",
    "from dataset import SentimentAnalysisDataset, LABEL_MAP\n",
    "\n",
    "data_path = 'data'\n",
    "\n",
    "print('====== TEST =======')\n",
    "device = torch.device('cuda' if torch.cuda.is_available() else 'cpu')\n",
    "print('device:', device)\n",
    "\n",
    "print('-> Loading vocabulary')\n",
    "with open('vocab.text', 'rb') as pkl:\n",
    "    vocab = pickle.load(pkl)\n",
    "\n",
    "print('-> Loading datasets')\n",
    "test_dataset = SentimentAnalysisDataset(os.path.join(data_path, 'testEmotions.csv'), vocab)\n",
    "train_size = len(test_dataset)\n",
    "\n",
    "print('-> Initalizing model')\n",
    "model = SentimentLSTM(len(vocab))\n",
    "model.to(device)\n",
    "\n",
    "loss = torch.nn.CrossEntropyLoss()"
   ]
  },
  {
   "cell_type": "code",
   "execution_count": 10,
   "metadata": {},
   "outputs": [],
   "source": [
    "def run_test(model, dataset, device)\n",
    "\n",
    "    test_loss = 0.0\n",
    "    y_true = []\n",
    "    y_predict = []\n",
    "\n",
    "    model.eval()\n",
    "    with torch.no_grad():\n",
    "        for i, (tokens, label) in enumerate(dataset):\n",
    "            tokens = tokens.to(device)\n",
    "            label = label.to(device)\n",
    "            y_true.append(int(label.argmax(dim=0)))\n",
    "\n",
    "            if len(tokens) == 0:\n",
    "                # Predict neutral if no token after processing \n",
    "                # e.g., only stopwords in the original text\n",
    "                y_predict.append(int(LABEL_MAP['neutral']))\n",
    "                continue\n",
    "\n",
    "            # Forward pass\n",
    "            y_prob = model(tokens)[-1]\n",
    "            y_predict.append(int(torch.softmax(y_prob, dim=0).argmax(dim=0)))\n",
    "            L = loss(y_prob.view(1,-1), label.view(1,-1))\n",
    "            test_loss += L.item()\n",
    "\n",
    "    y_true = np.array(y_true)\n",
    "    y_predict = np.array(y_predict)\n",
    "\n",
    "    accuracy = sum(y_true == y_predict) / len(y_true)\n",
    "\n",
    "    return accuracy, test_loss"
   ]
  },
  {
   "cell_type": "code",
   "execution_count": 11,
   "metadata": {},
   "outputs": [
    {
     "data": {
      "text/plain": [
       "((4837,), (4837,))"
      ]
     },
     "execution_count": 11,
     "metadata": {},
     "output_type": "execute_result"
    }
   ],
   "source": [
    "y_true.shape, y_predict.shape"
   ]
  },
  {
   "cell_type": "code",
   "execution_count": 12,
   "metadata": {},
   "outputs": [
    {
     "data": {
      "text/plain": [
       "0.26834814967955345"
      ]
     },
     "execution_count": 12,
     "metadata": {},
     "output_type": "execute_result"
    }
   ],
   "source": [
    "accuracy = sum(y_true == y_predict) / len(y_true)\n",
    "accuracy"
   ]
  }
 ],
 "metadata": {
  "interpreter": {
   "hash": "7d538358a4a844c2698117f72ddbeea822b864d784b5f9260aa8445549be4a00"
  },
  "kernelspec": {
   "display_name": "Python 3.10.4 ('deep')",
   "language": "python",
   "name": "python3"
  },
  "language_info": {
   "codemirror_mode": {
    "name": "ipython",
    "version": 3
   },
   "file_extension": ".py",
   "mimetype": "text/x-python",
   "name": "python",
   "nbconvert_exporter": "python",
   "pygments_lexer": "ipython3",
   "version": "3.10.4"
  },
  "orig_nbformat": 4
 },
 "nbformat": 4,
 "nbformat_minor": 2
}
